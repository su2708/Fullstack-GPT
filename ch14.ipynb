{
 "cells": [
  {
   "cell_type": "markdown",
   "metadata": {},
   "source": [
    "### 14.2 Creating The Assistant"
   ]
  },
  {
   "cell_type": "code",
   "execution_count": null,
   "metadata": {},
   "outputs": [],
   "source": [
    "from langchain.utilities.duckduckgo_search import DuckDuckGoSearchAPIWrapper\n",
    "\n",
    "def get_ticker(inputs):\n",
    "    ddg = DuckDuckGoSearchAPIWrapper()\n",
    "    company_name =  inputs[\"company_name\"]\n",
    "    return ddg.run(f\"Ticker symbol of {company_name}\")\n",
    "\n",
    "functions = [\n",
    "    {\n",
    "        \"type\": \"function\",\n",
    "        \"function\": {\n",
    "            \"name\": \"get_ticker\",\n",
    "            \"description\": \"Given the name of a company returns its ticker symbol.\",\n",
    "            \"parameters\": {\n",
    "                \"type\": \"object\",\n",
    "                \"properties\": {\n",
    "                    \"company_name\": {\n",
    "                        \"type\": \"string\",\n",
    "                        \"description\": \"The name of the company\",\n",
    "                    }\n",
    "                },\n",
    "                \"required\": [\"company_name\"],\n",
    "            },\n",
    "        },\n",
    "    }\n",
    "]"
   ]
  },
  {
   "cell_type": "code",
   "execution_count": 7,
   "metadata": {},
   "outputs": [],
   "source": [
    "from openai import OpenAI\n",
    "\n",
    "client = OpenAI()\n",
    "\n",
    "assistant = client.beta.assistants.create(\n",
    "    name=\"Investor Assistant\",\n",
    "    instructions=\"You help users do research on publicly traded companies and you help users decide if they should buy the stock or not.\",\n",
    "    tools=functions,\n",
    "    model=\"gpt-4o\",\n",
    ")"
   ]
  }
 ],
 "metadata": {
  "kernelspec": {
   "display_name": "Fullstack-GPT",
   "language": "python",
   "name": "python3"
  },
  "language_info": {
   "codemirror_mode": {
    "name": "ipython",
    "version": 3
   },
   "file_extension": ".py",
   "mimetype": "text/x-python",
   "name": "python",
   "nbconvert_exporter": "python",
   "pygments_lexer": "ipython3",
   "version": "3.11.10"
  }
 },
 "nbformat": 4,
 "nbformat_minor": 2
}
