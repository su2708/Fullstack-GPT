{
 "cells": [
  {
   "cell_type": "markdown",
   "metadata": {},
   "source": [
    "### 3.1 Predict Messages"
   ]
  },
  {
   "cell_type": "code",
   "execution_count": 1,
   "metadata": {},
   "outputs": [
    {
     "data": {
      "text/plain": [
       "AIMessage(content='한국과 일본 사이의 거리는 약 900km입니다. 제 이름은 지리 전문가 챗봇이에요.')"
      ]
     },
     "execution_count": 1,
     "metadata": {},
     "output_type": "execute_result"
    }
   ],
   "source": [
    "from langchain.chat_models import ChatOpenAI\n",
    "from langchain.schema import HumanMessage, AIMessage, SystemMessage\n",
    "\n",
    "chat = ChatOpenAI(temperature=0.1)\n",
    "\n",
    "# 가상의 대화 설정\n",
    "messages = [\n",
    "    SystemMessage(\n",
    "        content=\"You are a geography expert. And you only reply in Korean.\"\n",
    "    ),\n",
    "    AIMessage(content=\"안녕! 나는 챗봇이야.\"),\n",
    "    HumanMessage(content=\"What is the distance between Korea and Japan? Also, what is your name?\"),\n",
    "]\n",
    "\n",
    "chat.predict_messages(messages)"
   ]
  },
  {
   "cell_type": "markdown",
   "metadata": {},
   "source": [
    "### 3.2 Prompt Templates"
   ]
  },
  {
   "cell_type": "code",
   "execution_count": 2,
   "metadata": {},
   "outputs": [
    {
     "data": {
      "text/plain": [
       "'The distance between Korea and Vietnam is approximately 2,300 kilometers (1,429 miles) when measured in a straight line.'"
      ]
     },
     "execution_count": 2,
     "metadata": {},
     "output_type": "execute_result"
    }
   ],
   "source": [
    "from langchain.chat_models import ChatOpenAI\n",
    "from langchain.prompts import PromptTemplate, ChatPromptTemplate\n",
    "\n",
    "chat = ChatOpenAI(temperature=0.1)\n",
    "\n",
    "template = PromptTemplate.from_template(\n",
    "    \"What is the distance between {country_a} and {country_b}?\",\n",
    ")\n",
    "\n",
    "prompt = template.format(country_a=\"Korea\", country_b=\"Vietnam\")\n",
    "\n",
    "chat.predict(prompt)"
   ]
  },
  {
   "cell_type": "code",
   "execution_count": 3,
   "metadata": {},
   "outputs": [
    {
     "data": {
      "text/plain": [
       "AIMessage(content='한국과 프랑스 사이의 거리는 대략 9000km입니다. 제 이름은 Chatbot이에요.')"
      ]
     },
     "execution_count": 3,
     "metadata": {},
     "output_type": "execute_result"
    }
   ],
   "source": [
    "template = ChatPromptTemplate.from_messages(\n",
    "    [\n",
    "        (\"system\", \"You are a geography expert. And you only reply in {language}.\"),\n",
    "        (\"ai\", \"안녕! 나는 {name}이야.\"),\n",
    "        (\"human\", \"What is the distance between {country_a} and {country_b}? also, what is your name?\"),\n",
    "    ]\n",
    ")\n",
    "\n",
    "prompt = template.format_messages(\n",
    "    language=\"Korean\",\n",
    "    name=\"chatbot\",\n",
    "    country_a=\"Korea\",\n",
    "    country_b=\"France\",\n",
    ")\n",
    "\n",
    "chat.predict_messages(prompt)"
   ]
  },
  {
   "cell_type": "markdown",
   "metadata": {},
   "source": [
    "### 3.3 OutputParser and LCEL(LangChain Expression Language)"
   ]
  },
  {
   "cell_type": "code",
   "execution_count": 4,
   "metadata": {},
   "outputs": [
    {
     "data": {
      "text/plain": [
       "['hi', 'how', 'are', 'you']"
      ]
     },
     "execution_count": 4,
     "metadata": {},
     "output_type": "execute_result"
    }
   ],
   "source": [
    "from langchain.schema import BaseOutputParser\n",
    "\n",
    "class CommaOutputParser(BaseOutputParser):\n",
    "    # must define parse function\n",
    "    def parse(self, text):\n",
    "        items = text.strip().split(',')\n",
    "        return list(map(str.strip, items))\n",
    "    \n",
    "p = CommaOutputParser()\n",
    "p.parse('hi,how,are,you')"
   ]
  },
  {
   "cell_type": "code",
   "execution_count": 5,
   "metadata": {},
   "outputs": [
    {
     "data": {
      "text/plain": [
       "['red',\n",
       " 'blue',\n",
       " 'green',\n",
       " 'yellow',\n",
       " 'orange',\n",
       " 'purple',\n",
       " 'pink',\n",
       " 'black',\n",
       " 'white',\n",
       " 'brown']"
      ]
     },
     "execution_count": 5,
     "metadata": {},
     "output_type": "execute_result"
    }
   ],
   "source": [
    "# without LCEL\n",
    "\n",
    "template = ChatPromptTemplate.from_messages(\n",
    "    [\n",
    "        (\"system\", \"You are a list generating machine. Everything you are asked will be answered with a comma seperated list of max {max_items} in lowercase. Do NOT reply with anything else.\"),\n",
    "        (\"human\", \"{question}.\"),\n",
    "    ]\n",
    ")\n",
    "\n",
    "prompt = template.format_messages(\n",
    "    max_items=10,\n",
    "    question=\"What are the colors?\"\n",
    ")\n",
    "\n",
    "result = chat.predict_messages(prompt)\n",
    "\n",
    "p = CommaOutputParser()\n",
    "p.parse(result.content)"
   ]
  },
  {
   "cell_type": "code",
   "execution_count": 6,
   "metadata": {},
   "outputs": [
    {
     "data": {
      "text/plain": [
       "['pikachu', 'charmander', 'bulbasaur', 'squirtle']"
      ]
     },
     "execution_count": 6,
     "metadata": {},
     "output_type": "execute_result"
    }
   ],
   "source": [
    "# with LCEL\n",
    "# make a chain of chat model, OutputParser and template.\n",
    "\n",
    "template = ChatPromptTemplate.from_messages(\n",
    "    [\n",
    "        (\"system\", \"You are a list generating machine. Everything you are asked will be answered with a comma seperated list of max {max_items} in lowercase. Do NOT reply with anything else.\"),\n",
    "        (\"human\", \"{question}.\"),\n",
    "    ]\n",
    ")\n",
    "\n",
    "chain = template | chat | CommaOutputParser()\n",
    "\n",
    "chain.invoke({\n",
    "    \"max_items\": 5,\n",
    "    \"question\": \"What are the pokemons?\"\n",
    "})"
   ]
  },
  {
   "cell_type": "markdown",
   "metadata": {},
   "source": [
    "### 3.4 Chaining Chains"
   ]
  },
  {
   "cell_type": "code",
   "execution_count": 7,
   "metadata": {},
   "outputs": [],
   "source": [
    "from langchain.chat_models import ChatOpenAI\n",
    "from langchain.prompts import ChatPromptTemplate\n",
    "from langchain.callbacks import StreamingStdOutCallbackHandler\n",
    "\n",
    "# streaming: LLM의 응답이 생성되는걸 볼 수 있게 해줌\n",
    "# StreamingStdOutCallbackHandler: console에서 응답의 진행을 볼 수 있음\n",
    "chat = ChatOpenAI(\n",
    "    temperature=0.1, streaming=True, callbacks=[StreamingStdOutCallbackHandler()]\n",
    ")\n",
    "\n",
    "chef_prompt = ChatPromptTemplate.from_messages([\n",
    "    (\"system\", \"You are a world-class international chef. You create easy to follow recipies for any type of cuisine with easy to find ingredients.\"),\n",
    "    (\"human\", \"I want to cook {cuisine} food.\"),\n",
    "])\n",
    "\n",
    "chef_chain = chef_prompt | chat"
   ]
  },
  {
   "cell_type": "code",
   "execution_count": 8,
   "metadata": {},
   "outputs": [],
   "source": [
    "veg_chef_prompt = ChatPromptTemplate.from_messages([\n",
    "    (\"system\", \"You are a vegetarian chef specialized on making traditional recipies vegetarian. You find alternative ingredients and explain their preparation. You don't radically modify the recipe. If there is no alternative for a food just say you don't know how to replace it.\"),\n",
    "    (\"human\", \"{recipe}\")\n",
    "])\n",
    "\n",
    "veg_chain = veg_chef_prompt | chat"
   ]
  },
  {
   "cell_type": "code",
   "execution_count": 9,
   "metadata": {},
   "outputs": [
    {
     "name": "stdout",
     "output_type": "stream",
     "text": [
      "Great choice! Indian cuisine is known for its bold flavors and aromatic spices. Let's start with a classic and easy recipe for Chicken Tikka Masala.\n",
      "\n",
      "Ingredients:\n",
      "- 1 lb boneless, skinless chicken breasts, cut into bite-sized pieces\n",
      "- 1 cup plain yogurt\n",
      "- 2 tbsp lemon juice\n",
      "- 2 tsp ground cumin\n",
      "- 2 tsp paprika\n",
      "- 1 tsp ground turmeric\n",
      "- 1 tsp garam masala\n",
      "- 1 tsp ground coriander\n",
      "- 1/2 tsp cayenne pepper (adjust to taste)\n",
      "- Salt and pepper to taste\n",
      "- 2 tbsp vegetable oil\n",
      "- 1 onion, finely chopped\n",
      "- 3 cloves garlic, minced\n",
      "- 1-inch piece of ginger, grated\n",
      "- 1 can (14 oz) tomato sauce\n",
      "- 1 cup heavy cream\n",
      "- Fresh cilantro, chopped (for garnish)\n",
      "\n",
      "Instructions:\n",
      "1. In a bowl, combine yogurt, lemon juice, cumin, paprika, turmeric, garam masala, coriander, cayenne pepper, salt, and pepper. Add the chicken pieces and coat them well with the marinade. Cover and refrigerate for at least 1 hour, or overnight for best results.\n",
      "\n",
      "2. Preheat the oven to 400°F (200°C). Thread the marinated chicken pieces onto skewers and place them on a baking sheet. Bake for 20-25 minutes or until the chicken is cooked through.\n",
      "\n",
      "3. In a large skillet, heat vegetable oil over medium heat. Add the chopped onion and cook until softened, about 5 minutes. Add the garlic and ginger, and cook for another minute until fragrant.\n",
      "\n",
      "4. Stir in the tomato sauce and bring to a simmer. Add the baked chicken pieces to the skillet and simmer for 10 minutes.\n",
      "\n",
      "5. Stir in the heavy cream and simmer for an additional 5 minutes, stirring occasionally.\n",
      "\n",
      "6. Taste and adjust seasoning if needed. Serve the Chicken Tikka Masala over steamed rice, garnished with fresh cilantro.\n",
      "\n",
      "Enjoy your delicious homemade Chicken Tikka Masala!For a vegetarian version of Chicken Tikka Masala, you can easily replace the chicken with a plant-based alternative such as tofu or paneer. Here's how you can prepare these alternatives:\n",
      "\n",
      "1. **Tofu**: \n",
      "   - Use firm or extra-firm tofu for this recipe.\n",
      "   - Drain the tofu and press it to remove excess water. You can do this by wrapping the tofu block in a clean kitchen towel or paper towels and placing a heavy object on top for about 15-30 minutes.\n",
      "   - Cut the tofu into bite-sized cubes and proceed with marinating it as you would with the chicken. Tofu absorbs flavors well, so the marination process is crucial for a tasty dish.\n",
      "   - You can either bake the marinated tofu in the oven like you would with the chicken or pan-fry it until golden brown before adding it to the sauce.\n",
      "\n",
      "2. **Paneer**:\n",
      "   - Paneer is a fresh cheese commonly used in Indian cuisine.\n",
      "   - Cut the paneer into cubes and lightly fry them in a pan until they develop a golden crust. This step helps the paneer hold its shape better in the sauce.\n",
      "   - You can also marinate the paneer cubes for added flavor before frying them.\n",
      "   - Once the paneer is fried, add it to the sauce and let it simmer for a few minutes to absorb the flavors.\n",
      "\n",
      "By substituting chicken with tofu or paneer, you can enjoy a vegetarian version of Chicken Tikka Masala that retains the essence of the traditional dish while catering to a vegetarian diet."
     ]
    },
    {
     "data": {
      "text/plain": [
       "AIMessageChunk(content=\"For a vegetarian version of Chicken Tikka Masala, you can easily replace the chicken with a plant-based alternative such as tofu or paneer. Here's how you can prepare these alternatives:\\n\\n1. **Tofu**: \\n   - Use firm or extra-firm tofu for this recipe.\\n   - Drain the tofu and press it to remove excess water. You can do this by wrapping the tofu block in a clean kitchen towel or paper towels and placing a heavy object on top for about 15-30 minutes.\\n   - Cut the tofu into bite-sized cubes and proceed with marinating it as you would with the chicken. Tofu absorbs flavors well, so the marination process is crucial for a tasty dish.\\n   - You can either bake the marinated tofu in the oven like you would with the chicken or pan-fry it until golden brown before adding it to the sauce.\\n\\n2. **Paneer**:\\n   - Paneer is a fresh cheese commonly used in Indian cuisine.\\n   - Cut the paneer into cubes and lightly fry them in a pan until they develop a golden crust. This step helps the paneer hold its shape better in the sauce.\\n   - You can also marinate the paneer cubes for added flavor before frying them.\\n   - Once the paneer is fried, add it to the sauce and let it simmer for a few minutes to absorb the flavors.\\n\\nBy substituting chicken with tofu or paneer, you can enjoy a vegetarian version of Chicken Tikka Masala that retains the essence of the traditional dish while catering to a vegetarian diet.\")"
      ]
     },
     "execution_count": 9,
     "metadata": {},
     "output_type": "execute_result"
    }
   ],
   "source": [
    "final_chain = {\"recipe\": chef_chain} | veg_chain\n",
    "\n",
    "final_chain.invoke({\n",
    "    \"cuisine\": \"indian\"\n",
    "})"
   ]
  }
 ],
 "metadata": {
  "kernelspec": {
   "display_name": "Fullstack-GPT",
   "language": "python",
   "name": "python3"
  },
  "language_info": {
   "codemirror_mode": {
    "name": "ipython",
    "version": 3
   },
   "file_extension": ".py",
   "mimetype": "text/x-python",
   "name": "python",
   "nbconvert_exporter": "python",
   "pygments_lexer": "ipython3",
   "version": "3.11.10"
  }
 },
 "nbformat": 4,
 "nbformat_minor": 2
}
