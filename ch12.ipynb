{
 "cells": [
  {
   "cell_type": "markdown",
   "metadata": {},
   "source": [
    "### 12.1 Your First Agent"
   ]
  },
  {
   "cell_type": "code",
   "execution_count": 2,
   "metadata": {},
   "outputs": [
    {
     "name": "stderr",
     "output_type": "stream",
     "text": [
      "C:\\Users\\Public\\Documents\\ESTsoft\\CreatorTemp\\ipykernel_3912\\2961844702.py:10: LangChainDeprecationWarning: LangChain agents will continue to be supported, but it is recommended for new use cases to be built with LangGraph. LangGraph offers a more flexible and full-featured framework for building agents, including support for tool-calling, persistence of state, and human-in-the-loop workflows. See LangGraph documentation for more details: https://langchain-ai.github.io/langgraph/. Refer here for its pre-built ReAct agent: https://langchain-ai.github.io/langgraph/how-tos/create-react-agent/\n",
      "  agent = initialize_agent(\n"
     ]
    },
    {
     "name": "stdout",
     "output_type": "stream",
     "text": [
      "\n",
      "\n",
      "\u001b[1m> Entering new AgentExecutor chain...\u001b[0m\n",
      "\u001b[32;1m\u001b[1;3mThought: I can use the Sum Calculator tool to find the total cost of all the given amounts.\n",
      "\n",
      "Action:\n",
      "```\n",
      "{\n",
      "  \"action\": \"Sum Calculator\",\n",
      "  \"action_input\": {\n",
      "    \"a\": 355.39,\n",
      "    \"b\": 924.87\n",
      "  }\n",
      "}\n",
      "```\u001b[0m\n",
      "Observation: \u001b[36;1m\u001b[1;3m1280.26\u001b[0m\n",
      "Thought:\u001b[32;1m\u001b[1;3mNow, I will continue adding the remaining amounts to the sum calculated so far.\n",
      "Action:\n",
      "```\n",
      "{\n",
      "  \"action\": \"Sum Calculator\",\n",
      "  \"action_input\": {\n",
      "    \"a\": 1280.26,\n",
      "    \"b\": 721.2\n",
      "  }\n",
      "}\n",
      "```\u001b[0m\n",
      "Observation: \u001b[36;1m\u001b[1;3m2001.46\u001b[0m\n",
      "Thought:\u001b[32;1m\u001b[1;3mNow, I will continue adding the remaining amounts to the sum calculated so far.\n",
      "\n",
      "Action:\n",
      "```\n",
      "{\n",
      "  \"action\": \"Sum Calculator\",\n",
      "  \"action_input\": {\n",
      "    \"a\": 2001.46,\n",
      "    \"b\": 1940.29\n",
      "  }\n",
      "}\n",
      "```\u001b[0m\n",
      "Observation: \u001b[36;1m\u001b[1;3m3941.75\u001b[0m\n",
      "Thought:\u001b[32;1m\u001b[1;3mI will now add the remaining amounts to the sum calculated so far to find the total cost.\n",
      "Action:\n",
      "```\n",
      "{\n",
      "  \"action\": \"Sum Calculator\",\n",
      "  \"action_input\": {\n",
      "    \"a\": 3941.75,\n",
      "    \"b\": 573.63\n",
      "  }\n",
      "}\n",
      "```\u001b[0m\n",
      "Observation: \u001b[36;1m\u001b[1;3m4515.38\u001b[0m\n",
      "Thought:\u001b[32;1m\u001b[1;3mI will continue adding the remaining amounts to the sum calculated so far.\n",
      "\n",
      "Action:\n",
      "```\n",
      "{\n",
      "  \"action\": \"Sum Calculator\",\n",
      "  \"action_input\": {\n",
      "    \"a\": 4515.38,\n",
      "    \"b\": 65.72\n",
      "  }\n",
      "}\n",
      "```\u001b[0m\n",
      "Observation: \u001b[36;1m\u001b[1;3m4581.1\u001b[0m\n",
      "Thought:\u001b[32;1m\u001b[1;3mI will now add the last three amounts to the sum calculated so far to find the total cost.\n",
      "\n",
      "Action:\n",
      "```\n",
      "{\n",
      "  \"action\": \"Sum Calculator\",\n",
      "  \"action_input\": {\n",
      "    \"a\": 4581.1,\n",
      "    \"b\": 35.00\n",
      "  }\n",
      "}\n",
      "```\u001b[0m\n",
      "Observation: \u001b[36;1m\u001b[1;3m4616.1\u001b[0m\n",
      "Thought:\u001b[32;1m\u001b[1;3mI have calculated the total cost of all the given amounts to be $4616.1.\n",
      "Action:\n",
      "```\n",
      "{\n",
      "  \"action\": \"Final Answer\",\n",
      "  \"action_input\": \"The total cost is $4616.1\"\n",
      "}\n",
      "``` \n",
      "\u001b[0m\n",
      "\n",
      "\u001b[1m> Finished chain.\u001b[0m\n"
     ]
    },
    {
     "data": {
      "text/plain": [
       "{'input': 'Cost of $355.39 + $924.87 + $721.2 + $1940.29 + $573.63 + $65.72 + $35.00 + $552.00 + $76.16 + $29.12',\n",
       " 'output': 'The total cost is $4616.1'}"
      ]
     },
     "execution_count": 2,
     "metadata": {},
     "output_type": "execute_result"
    }
   ],
   "source": [
    "from langchain_openai import ChatOpenAI\n",
    "from langchain.tools import StructuredTool\n",
    "from langchain.agents import initialize_agent, AgentType\n",
    "\n",
    "llm = ChatOpenAI(temperature=0.1)\n",
    "\n",
    "def plus(a, b):\n",
    "    return a + b\n",
    "\n",
    "agent = initialize_agent(\n",
    "    llm=llm,\n",
    "    verbose=True,\n",
    "    agent=AgentType.STRUCTURED_CHAT_ZERO_SHOT_REACT_DESCRIPTION,\n",
    "    tools=[\n",
    "        StructuredTool.from_function(\n",
    "            func=plus,\n",
    "            name=\"Sum Calculator\",\n",
    "            description=\"Use this to perform sums of two numbers. This tool take two arguments, both should be numbers.\"\n",
    "        ),\n",
    "    ]\n",
    ")\n",
    "\n",
    "prompt = \"Cost of $355.39 + $924.87 + $721.2 + $1940.29 + $573.63 + $65.72 + $35.00 + $552.00 + $76.16 + $29.12\"\n",
    "\n",
    "agent.invoke(prompt)"
   ]
  },
  {
   "cell_type": "markdown",
   "metadata": {},
   "source": [
    "### 12.3 Zero-shot ReAct Agent"
   ]
  },
  {
   "cell_type": "code",
   "execution_count": null,
   "metadata": {},
   "outputs": [
    {
     "name": "stdout",
     "output_type": "stream",
     "text": [
      "\n",
      "\n",
      "\u001b[1m> Entering new AgentExecutor chain...\u001b[0m\n",
      "\u001b[32;1m\u001b[1;3mThis is a sum of multiple numbers, so I should use the Sum Calculator tool multiple times to find the total sum.\n",
      "Action: Sum Calculator\n",
      "Action Input: 355.39, 924.87\u001b[0m\n",
      "Observation: \u001b[36;1m\u001b[1;3m1280.26\u001b[0m\n",
      "Thought:\u001b[32;1m\u001b[1;3mI need to continue adding the remaining numbers to the sum.\n",
      "Action: Sum Calculator\n",
      "Action Input: 1280.26, 721.2\u001b[0m\n",
      "Observation: \u001b[36;1m\u001b[1;3m2001.46\u001b[0m\n",
      "Thought:\u001b[32;1m\u001b[1;3mI need to continue adding the remaining numbers to the sum.\n",
      "Action: Sum Calculator\n",
      "Action Input: 2001.46, 1940.29\u001b[0m\n",
      "Observation: \u001b[36;1m\u001b[1;3m3941.75\u001b[0m\n",
      "Thought:\u001b[32;1m\u001b[1;3mI need to continue adding the remaining numbers to the sum.\n",
      "Action: Sum Calculator\n",
      "Action Input: 3941.75, 573.63\u001b[0m\n",
      "Observation: \u001b[36;1m\u001b[1;3m4515.38\u001b[0m\n",
      "Thought:\u001b[32;1m\u001b[1;3mI need to continue adding the remaining numbers to the sum.\n",
      "Action: Sum Calculator\n",
      "Action Input: 4515.38, 65.72\u001b[0m\n",
      "Observation: \u001b[36;1m\u001b[1;3m4581.1\u001b[0m\n",
      "Thought:\u001b[32;1m\u001b[1;3mI need to continue adding the remaining numbers to the sum.\n",
      "Action: Sum Calculator\n",
      "Action Input: 4581.1, 35.00\u001b[0m\n",
      "Observation: \u001b[36;1m\u001b[1;3m4616.1\u001b[0m\n",
      "Thought:\u001b[32;1m\u001b[1;3mI need to continue adding the remaining numbers to the sum.\n",
      "Action: Sum Calculator\n",
      "Action Input: 4616.1, 552.00\u001b[0m\n",
      "Observation: \u001b[36;1m\u001b[1;3m5168.1\u001b[0m\n",
      "Thought:\u001b[32;1m\u001b[1;3mI need to continue adding the remaining numbers to the sum.\n",
      "Action: Sum Calculator\n",
      "Action Input: 5168.1, 76.16\u001b[0m\n",
      "Observation: \u001b[36;1m\u001b[1;3m5244.26\u001b[0m\n",
      "Thought:\u001b[32;1m\u001b[1;3mI need to add the final number to the sum.\n",
      "Action: Sum Calculator\n",
      "Action Input: 5244.26, 29.12\u001b[0m\n",
      "Observation: \u001b[36;1m\u001b[1;3m5273.38\u001b[0m\n",
      "Thought:\u001b[32;1m\u001b[1;3mI now know the final answer\n",
      "Final Answer: $5273.38\u001b[0m\n",
      "\n",
      "\u001b[1m> Finished chain.\u001b[0m\n"
     ]
    },
    {
     "data": {
      "text/plain": [
       "{'input': 'Cost of $355.39 + $924.87 + $721.2 + $1940.29 + $573.63 + $65.72 + $35.00 + $552.00 + $76.16 + $29.12',\n",
       " 'output': '$5273.38'}"
      ]
     },
     "execution_count": 4,
     "metadata": {},
     "output_type": "execute_result"
    }
   ],
   "source": [
    "from langchain_openai import ChatOpenAI\n",
    "from langchain.tools import Tool\n",
    "from langchain.agents import initialize_agent, AgentType\n",
    "\n",
    "llm = ChatOpenAI(temperature=0.1)\n",
    "\n",
    "def plus(inputs):\n",
    "    a, b = inputs.split(\",\")\n",
    "    return float(a) + float(b)\n",
    "\n",
    "agent = initialize_agent(\n",
    "    llm=llm,\n",
    "    verbose=True,\n",
    "    agent=AgentType.ZERO_SHOT_REACT_DESCRIPTION,\n",
    "    handle_parsing_errors=True,\n",
    "    tools=[\n",
    "        Tool.from_function(\n",
    "            func=plus,\n",
    "            name=\"Sum Calculator\",\n",
    "            description=\"Use this to perform sums of two numbers. Use this tool by sending a pair of number separated by a comma. \\n\\nExample:1,2\"\n",
    "        ),\n",
    "    ]\n",
    ")\n",
    "\n",
    "prompt = \"Cost of $355.39 + $924.87 + $721.2 + $1940.29 + $573.63 + $65.72 + $35.00 + $552.00 + $76.16 + $29.12\"\n",
    "\n",
    "agent.invoke(prompt)"
   ]
  },
  {
   "cell_type": "markdown",
   "metadata": {},
   "source": [
    "### 12.4 OpenAI Functions Agent"
   ]
  },
  {
   "cell_type": "code",
   "execution_count": null,
   "metadata": {},
   "outputs": [
    {
     "name": "stdout",
     "output_type": "stream",
     "text": [
      "\n",
      "\n",
      "\u001b[1m> Entering new AgentExecutor chain...\u001b[0m\n",
      "\u001b[32;1m\u001b[1;3m\n",
      "Invoking: `CalculatorTool` with `{'a': 35539, 'b': 92487}`\n",
      "\n",
      "\n",
      "\u001b[0m\u001b[36;1m\u001b[1;3m128026\u001b[0m\u001b[32;1m\u001b[1;3m\n",
      "Invoking: `CalculatorTool` with `{'a': 128026, 'b': 72120}`\n",
      "\n",
      "\n",
      "\u001b[0m\u001b[36;1m\u001b[1;3m200146\u001b[0m\u001b[32;1m\u001b[1;3m\n",
      "Invoking: `CalculatorTool` with `{'a': 200146, 'b': 194029}`\n",
      "\n",
      "\n",
      "\u001b[0m\u001b[36;1m\u001b[1;3m394175\u001b[0m\u001b[32;1m\u001b[1;3m\n",
      "Invoking: `CalculatorTool` with `{'a': 394175, 'b': 57363}`\n",
      "\n",
      "\n",
      "\u001b[0m\u001b[36;1m\u001b[1;3m451538\u001b[0m\u001b[32;1m\u001b[1;3m\n",
      "Invoking: `CalculatorTool` with `{'a': 451538, 'b': 6572}`\n",
      "\n",
      "\n",
      "\u001b[0m\u001b[36;1m\u001b[1;3m458110\u001b[0m\u001b[32;1m\u001b[1;3m\n",
      "Invoking: `CalculatorTool` with `{'a': 458110, 'b': 3500}`\n",
      "\n",
      "\n",
      "\u001b[0m\u001b[36;1m\u001b[1;3m461610\u001b[0m\u001b[32;1m\u001b[1;3m\n",
      "Invoking: `CalculatorTool` with `{'a': 461610, 'b': 55200}`\n",
      "\n",
      "\n",
      "\u001b[0m\u001b[36;1m\u001b[1;3m516810\u001b[0m\u001b[32;1m\u001b[1;3m\n",
      "Invoking: `CalculatorTool` with `{'a': 516810, 'b': 7616}`\n",
      "\n",
      "\n",
      "\u001b[0m\u001b[36;1m\u001b[1;3m524426\u001b[0m\u001b[32;1m\u001b[1;3m\n",
      "Invoking: `CalculatorTool` with `{'a': 524426, 'b': 2912}`\n",
      "\n",
      "\n",
      "\u001b[0m\u001b[36;1m\u001b[1;3m527338\u001b[0m\u001b[32;1m\u001b[1;3mThe total cost of $355.39 + $924.87 + $721.2 + $1940.29 + $573.63 + $65.72 + $35.00 + $552.00 + $76.16 + $29.12 is $5273.38.\u001b[0m\n",
      "\n",
      "\u001b[1m> Finished chain.\u001b[0m\n"
     ]
    },
    {
     "data": {
      "text/plain": [
       "{'input': 'Cost of $355.39 + $924.87 + $721.2 + $1940.29 + $573.63 + $65.72 + $35.00 + $552.00 + $76.16 + $29.12',\n",
       " 'output': 'The total cost of $355.39 + $924.87 + $721.2 + $1940.29 + $573.63 + $65.72 + $35.00 + $552.00 + $76.16 + $29.12 is $5273.38.'}"
      ]
     },
     "execution_count": 5,
     "metadata": {},
     "output_type": "execute_result"
    }
   ],
   "source": [
    "from typing_extensions import Type\n",
    "from langchain_openai import ChatOpenAI\n",
    "from langchain.tools import BaseTool\n",
    "from pydantic import BaseModel, Field\n",
    "from langchain.agents import initialize_agent, AgentType\n",
    "\n",
    "llm = ChatOpenAI(temperature=0.1)\n",
    "\n",
    "class CalculatorToolArgsSchema(BaseModel):\n",
    "    a: float = Field(description=\"The first number\")\n",
    "    b: float = Field(description=\"The second number\")\n",
    "\n",
    "class CalculatorTool(BaseTool):\n",
    "    name: Type[str] = \"CalculatorTool\"\n",
    "    description: Type[str] = \"\"\"\n",
    "    Use this to perform sums of two numbers.\n",
    "    The first and second arguments should be numbers.\n",
    "    Only receives two arguments.\n",
    "    \"\"\"\n",
    "    args_schema : Type[CalculatorToolArgsSchema] = CalculatorToolArgsSchema\n",
    "    \n",
    "    def _run(self, a, b):\n",
    "        return a + b\n",
    "\n",
    "agent = initialize_agent(\n",
    "    llm=llm,\n",
    "    verbose=True,\n",
    "    agent=AgentType.OPENAI_FUNCTIONS,\n",
    "    handle_parsing_errors=True,\n",
    "    tools=[\n",
    "        CalculatorTool(),\n",
    "    ]\n",
    ")\n",
    "\n",
    "prompt = \"Cost of $355.39 + $924.87 + $721.2 + $1940.29 + $573.63 + $65.72 + $35.00 + $552.00 + $76.16 + $29.12\"\n",
    "\n",
    "agent.invoke(prompt)"
   ]
  },
  {
   "cell_type": "markdown",
   "metadata": {},
   "source": [
    "### 12.5 Search Tool"
   ]
  },
  {
   "cell_type": "code",
   "execution_count": 8,
   "metadata": {},
   "outputs": [
    {
     "name": "stdout",
     "output_type": "stream",
     "text": [
      "\n",
      "\n",
      "\u001b[1m> Entering new AgentExecutor chain...\u001b[0m\n",
      "\u001b[32;1m\u001b[1;3m\n",
      "Invoking: `StockMarketSymbolSearchTool` with `{'query': 'Cloudflare'}`\n",
      "\n",
      "\n",
      "\u001b[0m"
     ]
    },
    {
     "name": "stderr",
     "output_type": "stream",
     "text": [
      "c:\\Users\\USER\\anaconda3\\envs\\Fullstack-GPT\\Lib\\site-packages\\langchain_community\\utilities\\duckduckgo_search.py:64: UserWarning: backend='api' is deprecated, using backend='auto'\n",
      "  ddgs_gen = ddgs.text(\n"
     ]
    },
    {
     "name": "stdout",
     "output_type": "stream",
     "text": [
      "\u001b[36;1m\u001b[1;3mR2 is a major destination for Cloudflare Logs. During the primary incident window, all available resources became saturated attempting to buffer and deliver data to R2. This prevented other jobs from acquiring resources to process their queues. Data loss (dropped logs) occurred when the job queues expired their data (to allow for new, incoming ... Get the latest news on how products at Cloudflare are built, technologies used, and join the teams helping to build a better Internet. San Francisco, CA, November 7, 2024 — Cloudflare, Inc. (NYSE: NET), the leading connectivity cloud company, today announced financial results for its third quarter ended September 30, 2024. \"I am pleased with our results for the third quarter—exceeding expectations for revenue, operating margin, and free cash flow while also reaching a key ... At Cloudflare, we are constantly innovating and launching new features and capabilities across our product portfolio. Today's roundup blog post shares two exciting updates across our platform: our cross-platform 1.1.1.1 & WARP applications (consumer) and device agents (Zero Trust) now use MASQUE, a cutting-edge HTTP/3-based protocol, to secure your Internet connection. Cloudflare retains the right (but not the obligation) to block content from its Distributed Web Gateway that Cloudflare determines (in its sole discretion) to be illegal, harmful, or in violation of these Terms. For these purposes, illegal or harmful content includes but is not limited to: (a) content containing, promoting, or facilitating ...\u001b[0m\u001b[32;1m\u001b[1;3mThe stock market symbol for Cloudflare is NET. Now, let's analyze Cloudflare's stock performance to determine if it's a potential good investment.\n",
      "\n",
      "To analyze if Cloudflare's stock is a good investment, we need to consider various factors such as the company's financial health, growth potential, competitive position, and market trends. Here are some key points to consider:\n",
      "\n",
      "1. **Financial Performance**: Look at Cloudflare's revenue growth, profitability, and cash flow. Analyze if the company is consistently growing its revenue and improving its profitability.\n",
      "\n",
      "2. **Market Potential**: Evaluate the market potential for Cloudflare's services. Consider the demand for cloud-based services and cybersecurity solutions, which are areas where Cloudflare operates.\n",
      "\n",
      "3. **Competitive Position**: Assess Cloudflare's competitive position in the market. Look at how it compares to its competitors and if it has a unique value proposition.\n",
      "\n",
      "4. **Future Growth Opportunities**: Consider Cloudflare's potential for future growth. Look at its product roadmap, expansion plans, and partnerships that could drive growth.\n",
      "\n",
      "5. **Risk Factors**: Evaluate any potential risks that could impact Cloudflare's stock performance, such as regulatory challenges, cybersecurity threats, or market competition.\n",
      "\n",
      "It's important to conduct thorough research and analysis before making any investment decisions. Consider consulting with a financial advisor for personalized investment advice based on your financial goals and risk tolerance.\u001b[0m\n",
      "\n",
      "\u001b[1m> Finished chain.\u001b[0m\n"
     ]
    },
    {
     "data": {
      "text/plain": [
       "{'input': \"Give me information on Cloudflare's stock and help me analyze if it's a potential good investment. Also tell me what symbol does the stock have.\",\n",
       " 'output': \"The stock market symbol for Cloudflare is NET. Now, let's analyze Cloudflare's stock performance to determine if it's a potential good investment.\\n\\nTo analyze if Cloudflare's stock is a good investment, we need to consider various factors such as the company's financial health, growth potential, competitive position, and market trends. Here are some key points to consider:\\n\\n1. **Financial Performance**: Look at Cloudflare's revenue growth, profitability, and cash flow. Analyze if the company is consistently growing its revenue and improving its profitability.\\n\\n2. **Market Potential**: Evaluate the market potential for Cloudflare's services. Consider the demand for cloud-based services and cybersecurity solutions, which are areas where Cloudflare operates.\\n\\n3. **Competitive Position**: Assess Cloudflare's competitive position in the market. Look at how it compares to its competitors and if it has a unique value proposition.\\n\\n4. **Future Growth Opportunities**: Consider Cloudflare's potential for future growth. Look at its product roadmap, expansion plans, and partnerships that could drive growth.\\n\\n5. **Risk Factors**: Evaluate any potential risks that could impact Cloudflare's stock performance, such as regulatory challenges, cybersecurity threats, or market competition.\\n\\nIt's important to conduct thorough research and analysis before making any investment decisions. Consider consulting with a financial advisor for personalized investment advice based on your financial goals and risk tolerance.\"}"
      ]
     },
     "execution_count": 8,
     "metadata": {},
     "output_type": "execute_result"
    }
   ],
   "source": [
    "from typing_extensions import Type\n",
    "from langchain_openai import ChatOpenAI\n",
    "from langchain.tools import BaseTool\n",
    "from pydantic import BaseModel, Field\n",
    "from langchain.agents import initialize_agent, AgentType\n",
    "from langchain.utilities import DuckDuckGoSearchAPIWrapper\n",
    "\n",
    "llm = ChatOpenAI(temperature=0.1)\n",
    "\n",
    "class StockMarketSymbolSearchToolArgsSchema(BaseModel):\n",
    "    query:str = Field(description=\"The query you will search for\")\n",
    "\n",
    "class StockMarketSymbolSearchTool(BaseTool):\n",
    "    name: Type[str] = \"StockMarketSymbolSearchTool\"\n",
    "    description: Type[str] = \"\"\" \n",
    "    Use this tool to find the stock market symbol for a company.\n",
    "    It takes a query as an argument.\n",
    "    Example query: Stock Market Symbol for Apple Company\n",
    "    \"\"\"\n",
    "    args_schema: Type[StockMarketSymbolSearchToolArgsSchema] = StockMarketSymbolSearchToolArgsSchema    \n",
    "    \n",
    "    def _run(self, query):\n",
    "        ddg = DuckDuckGoSearchAPIWrapper()\n",
    "        return ddg.run(query)\n",
    "\n",
    "agent = initialize_agent(\n",
    "    llm=llm,\n",
    "    verbose=True,\n",
    "    agent=AgentType.OPENAI_FUNCTIONS,\n",
    "    handle_parsing_errors=True,\n",
    "    tools=[\n",
    "        StockMarketSymbolSearchTool(),\n",
    "    ]\n",
    ")\n",
    "\n",
    "prompt = \"Give me information on Cloudflare's stock and help me analyze if it's a potential good investment. Also tell me what symbol does the stock have.\"\n",
    "\n",
    "agent.invoke(prompt)"
   ]
  }
 ],
 "metadata": {
  "kernelspec": {
   "display_name": "Fullstack-GPT",
   "language": "python",
   "name": "python3"
  },
  "language_info": {
   "codemirror_mode": {
    "name": "ipython",
    "version": 3
   },
   "file_extension": ".py",
   "mimetype": "text/x-python",
   "name": "python",
   "nbconvert_exporter": "python",
   "pygments_lexer": "ipython3",
   "version": "3.11.10"
  }
 },
 "nbformat": 4,
 "nbformat_minor": 2
}
