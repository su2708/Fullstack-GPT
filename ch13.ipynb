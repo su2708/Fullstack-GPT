{
 "cells": [
  {
   "cell_type": "markdown",
   "metadata": {},
   "source": [
    "### 13.8 Pinecone"
   ]
  },
  {
   "cell_type": "code",
   "execution_count": 13,
   "metadata": {},
   "outputs": [
    {
     "name": "stderr",
     "output_type": "stream",
     "text": [
      "c:\\Users\\USER\\anaconda3\\envs\\Fullstack-GPT\\Lib\\site-packages\\langchain_core\\_api\\deprecation.py:119: LangChainDeprecationWarning: The class `OpenAIEmbeddings` was deprecated in LangChain 0.0.9 and will be removed in 0.3.0. An updated version of the class exists in the langchain-openai package and should be used instead. To use it run `pip install -U langchain-openai` and import as `from langchain_openai import OpenAIEmbeddings`.\n",
      "  warn_deprecated(\n"
     ]
    }
   ],
   "source": [
    "from langchain.document_loaders import CSVLoader\n",
    "from langchain.text_splitter import RecursiveCharacterTextSplitter\n",
    "from langchain.embeddings import OpenAIEmbeddings\n",
    "from langchain_pinecone import PineconeVectorStore\n",
    "from pinecone import Pinecone\n",
    "from dotenv import load_dotenv\n",
    "import os\n",
    "\n",
    "load_dotenv()\n",
    "pc = Pinecone(api_key=os.getenv(\"PINECONE_API_KEY\"))\n",
    "splitter = RecursiveCharacterTextSplitter.from_tiktoken_encoder()\n",
    "loader = CSVLoader(\"./recipes.csv\")\n",
    "docs = loader.load_and_split(text_splitter=splitter)\n",
    "doc_ids = [f\"doc-{i}\" for i in range(len(docs))]\n",
    "embeddings = OpenAIEmbeddings()\n",
    "vectore_store = PineconeVectorStore.from_documents(docs,embeddings,index_name=\"recipes\",ids=doc_ids)"
   ]
  },
  {
   "cell_type": "code",
   "execution_count": 14,
   "metadata": {},
   "outputs": [
    {
     "data": {
      "text/plain": [
       "[Document(page_content=': 829\\nrecipe_name: Avocado Toast (Vegan)\\nprep_time: 10 mins\\ncook_time: \\ntotal_time: 10 mins\\nservings: 4\\nyield: 4 toasts\\ningredients: 4 slices whole-grain bread, 1  avocado, halved and pitted, 2 tablespoons chopped fresh parsley, 1 ½ teaspoons extra-virgin olive oil, ½  lemon, juiced, ½ teaspoon salt, ½ teaspoon ground black pepper, ½ teaspoon onion powder, ½ teaspoon garlic powder\\ndirections: Toast bread in a toaster or toaster oven.\\nScoop avocado into a bowl. Add parsley, olive oil, lemon juice, salt, pepper, onion powder, and garlic powder; mash together using a potato masher. Spread avocado mixture into each piece of toast.\\nrating: 4.7\\nurl: https://www.allrecipes.com/recipe/246803/avocado-toast-vegan/\\ncuisine_path: /Everyday Cooking/Vegan/Breakfast and Brunch/\\nnutrition: Total Fat 10g 13%, Saturated Fat 2g 8%, Sodium 430mg 19%, Total Carbohydrate 17g 6%, Dietary Fiber 6g 20%, Total Sugars 2g, Protein 5g, Vitamin C 8mg 39%, Calcium 42mg 3%, Iron 1mg 7%, Potassium 334mg 7%\\ntiming: Prep Time: 10 mins, Total Time: 10 mins, Servings: 4, Yield: 4 toasts\\nimg_src: https://www.allrecipes.com/thmb/tuoOX5LzxEww-9HzfJYHzaCT6cI=/1500x0/filters:no_upscale():max_bytes(150000):strip_icc()/3605756-4910cb02090848bebfbe1563270f38d9.jpg', metadata={'row': 829.0, 'source': './recipes.csv'}),\n",
       " Document(page_content=': 666\\nrecipe_name: Tart Tropical Parfait\\nprep_time: 5 mins\\ncook_time: \\ntotal_time: 5 mins\\nservings: 1\\nyield: 1 parfait\\ningredients: 1 (5.3 ounce) container low-fat vanilla Greek yogurt, ½ cup chopped kiwi, 2 tablespoons chopped macadamia nuts, 1 teaspoon agave nectar, 1 teaspoon chopped fresh mint\\ndirections: Spoon 1/3 cup yogurt into a 6- to 8-ounce parfait glass or jar. Top yogurt with 1/2 of the kiwi, 1/2 of the macadamia nuts, 1/2 of the agave. Repeat layers with the remaining yogurt, kiwi, nuts, and agave. Top parfait with mint.\\nrating: 5.0\\nurl: https://www.allrecipes.com/recipe/285020/tart-tropical-parfait/\\ncuisine_path: /Desserts/Specialty Dessert Recipes/Parfait Recipes/\\nnutrition: Total Fat 13g 17%, Saturated Fat 2g 11%, Cholesterol 9mg 3%, Sodium 74mg 3%, Total Carbohydrate 37g 13%, Dietary Fiber 4g 16%, Total Sugars 28g, Protein 15g, Vitamin C 83mg 413%, Calcium 46mg 4%, Iron 1mg 5%, Potassium 339mg 7%\\ntiming: Prep Time: 5 mins, Total Time: 5 mins, Servings: 1, Yield: 1 parfait\\nimg_src: https://www.allrecipes.com/thmb/RsFsSIETjBv5YlmZoZQbnMlLBT4=/1500x0/filters:no_upscale():max_bytes(150000):strip_icc()/9314803-c93055df2b164632a81c231ca4a35882.jpg', metadata={'row': 666.0, 'source': './recipes.csv'}),\n",
       " Document(page_content=': 989\\nrecipe_name: Ono Butter Mochi\\nprep_time: 5 mins\\ncook_time: 1 hrs\\ntotal_time: 1 hrs 5 mins\\nservings: 12\\nyield: 1 - 9x13 inch pan\\ningredients: 1 pound mochiko (glutinous rice flour), 2 ½ cups white sugar, 1 teaspoon baking powder, ½ cup butter, melted, 3 cups whole milk, 5  eggs, 1 teaspoon vanilla extract, 1 cup sweetened, flaked coconut\\ndirections: Preheat the oven to 350 degrees F (175 degrees C). Grease a 9x13 inch baking dish.\\nIn a medium bowl, whisk together the eggs, vanilla and milk. In a separate larger bowl, stir together the rice flour, sugar, and baking powder. Pour the wet ingredients into the dry ingredients, and stir to blend. Mix in melted butter and coconut. Pour into the prepared pan.\\nBake for 1 hour in the preheated oven. Cool completely, then cut into squares to serve.\\nrating: 4.7\\nurl: https://www.allrecipes.com/recipe/84857/ono-butter-mochi/\\ncuisine_path: /Desserts/\\nnutrition: Total Fat 14g 18%, Saturated Fat 8g 42%, Cholesterol 104mg 35%, Sodium 156mg 7%, Total Carbohydrate 78g 28%, Dietary Fiber 2g 5%, Total Sugars 47g, Protein 7g, Calcium 104mg 8%, Iron 1mg 4%, Potassium 170mg 4%\\ntiming: Prep Time: 5 mins, Cook Time: 1 hrs, Total Time: 1 hrs 5 mins, Servings: 12, Yield: 1 - 9x13 inch pan\\nimg_src: https://www.allrecipes.com/thmb/lFwmBy4jZYGL3HyfPHIfzgsfvUk=/1500x0/filters:no_upscale():max_bytes(150000):strip_icc()/3694797-6ad240b6ea94410b9c473c2839b92b91.jpg', metadata={'row': 989.0, 'source': './recipes.csv'}),\n",
       " Document(page_content=': 836\\nrecipe_name: Vegetarian Tortilla Soup\\nprep_time: 15 mins\\ncook_time: 40 mins\\ntotal_time: 55 mins\\nservings: 12\\nyield: 12 servings\\ningredients: 2 tablespoons vegetable oil, 1 (1 pound) package frozen pepper and onion stir fry mix, 2 cloves garlic, minced, 3 tablespoons ground cumin, 1 (28 ounce) can crushed tomatoes, 3 (4 ounce) cans chopped green chile peppers, drained, 4 (14 ounce) cans vegetable broth,   salt and pepper to taste, 1 (11 ounce) can whole kernel corn, 12 ounces tortilla chips, 1 cup shredded Cheddar cheese, 1  avocado - peeled, pitted and diced\\ndirections: Heat the oil in a large pot over medium heat. Stir in the pepper and onion stir fry mix, garlic, and cumin, and cook 5 minutes, until vegetables are tender. Mix in the tomatoes and chile peppers. Pour in the broth, and season with salt and pepper. Bring to a boil, reduce heat to low, and simmer 30 minutes.\\nMix corn into the soup, and continue cooking 5 minutes. Serve in bowls over equal amounts of tortilla chips. Top with cheese and avocado.\\nrating: 4.6\\nurl: https://www.allrecipes.com/recipe/80743/vegetarian-tortilla-soup/\\ncuisine_path: /Soups, Stews and Chili Recipes/Soup Recipes/Vegetable Soup Recipes/\\nnutrition: Total Fat 16g 21%, Saturated Fat 4g 20%, Cholesterol 12mg 4%, Sodium 1152mg 50%, Total Carbohydrate 37g 14%, Dietary Fiber 6g 21%, Total Sugars 4g, Protein 9g, Vitamin C 27mg 136%, Calcium 186mg 14%, Iron 3mg 18%, Potassium 461mg 10%\\ntiming: Prep Time: 15 mins, Cook Time: 40 mins, Total Time: 55 mins, Servings: 12, Yield: 12 servings\\nimg_src: https://www.allrecipes.com/thmb/uL-7DOsF8ZWskEEsJUa0sO9KBtM=/1500x0/filters:no_upscale():max_bytes(150000):strip_icc()/2113866-ceed23b99e344ad889d8c906a2f58995.jpg', metadata={'row': 836.0, 'source': './recipes.csv'})]"
      ]
     },
     "execution_count": 14,
     "metadata": {},
     "output_type": "execute_result"
    }
   ],
   "source": [
    "vectorestore = PineconeVectorStore.from_existing_index(\n",
    "    \"recipes\",\n",
    "    embeddings,\n",
    ")\n",
    "\n",
    "docs = vectorestore.similarity_search(\"tofu\")\n",
    "\n",
    "docs"
   ]
  }
 ],
 "metadata": {
  "kernelspec": {
   "display_name": "Fullstack-GPT",
   "language": "python",
   "name": "python3"
  },
  "language_info": {
   "codemirror_mode": {
    "name": "ipython",
    "version": 3
   },
   "file_extension": ".py",
   "mimetype": "text/x-python",
   "name": "python",
   "nbconvert_exporter": "python",
   "pygments_lexer": "ipython3",
   "version": "3.11.10"
  }
 },
 "nbformat": 4,
 "nbformat_minor": 2
}
