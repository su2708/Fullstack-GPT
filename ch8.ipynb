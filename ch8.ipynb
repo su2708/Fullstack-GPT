{
 "cells": [
  {
   "cell_type": "markdown",
   "metadata": {},
   "source": [
    "### 8.1 HuggingFaceEndpoints"
   ]
  },
  {
   "cell_type": "code",
   "execution_count": 1,
   "metadata": {},
   "outputs": [],
   "source": [
    "from dotenv import load_dotenv\n",
    "import os\n",
    "\n",
    "load_dotenv()\n",
    "\n",
    "HUGGINGFACEHUB_API_KEY = os.getenv(\"HUGGINGFACEHUB_API_KEY\")\n",
    "\n",
    "os.environ[\"KMP_DUPLICATE_LIB_OK\"] = \"True\"  # 라이브러리끼리의 충돌을 해결\n",
    "os.environ[\"HUGGINGFACEHUB_API_TOKEN\"] = HUGGINGFACEHUB_API_KEY"
   ]
  },
  {
   "cell_type": "code",
   "execution_count": null,
   "metadata": {},
   "outputs": [
    {
     "name": "stdout",
     "output_type": "stream",
     "text": [
      "Token will not been saved to git credential helper. Pass `add_to_git_credential=True` if you want to set the git credential as well.\n",
      "Token is valid (permission: fineGrained).\n",
      "Your token has been saved to C:\\Users\\USER\\.cache\\huggingface\\token\n",
      "Login successful\n",
      "\n",
      "\n",
      "A potato is a starchy, tuberous crop from the Solanum tuberosum species. The plant is native to the Andean region of South America, and was the first vegetable to be cultivated for food in the New World.\n",
      "\n",
      "Potatoes are grown worldwide and are a major source of food for many people. They come in a variety of shapes, sizes, and colors, and can be cooked in many different ways, such as boiling, baking, frying, and mashing.\n",
      "\n",
      "Potatoes are a good source of carbohydrates, fiber, and various vitamins and minerals, including vitamin C, potassium, and vitamin B6. They are also low in fat and calories, making them a popular choice for people on weight-loss diets.\n",
      "\n",
      "In addition to being a food source, potatoes have also been used for a variety of other purposes throughout history. For example, they have been used as a currency, a medicine, and a dye. Today, potatoes are an important crop in agriculture and are used in a wide range of products, such as potato chips, french fries, and potato flour.\n"
     ]
    }
   ],
   "source": [
    "from langchain.llms.huggingface_endpoint import HuggingFaceEndpoint\n",
    "from langchain.prompts import PromptTemplate\n",
    "\n",
    "prompt = PromptTemplate.from_template(\"What is the meaning of {word}?\")\n",
    "\n",
    "llm = HuggingFaceEndpoint(\n",
    "    repo_id=\"mistralai/Mistral-7B-Instruct-v0.3\",\n",
    "    temperature=0.5,\n",
    "    huggingfacehub_api_token=HUGGINGFACEHUB_API_KEY,\n",
    ")\n",
    "\n",
    "chain = prompt | llm\n",
    "result = chain.invoke({\"word\": \"potato\"})\n",
    "print(result)"
   ]
  },
  {
   "cell_type": "markdown",
   "metadata": {},
   "source": []
  }
 ],
 "metadata": {
  "kernelspec": {
   "display_name": "Python 3",
   "language": "python",
   "name": "python3"
  },
  "language_info": {
   "codemirror_mode": {
    "name": "ipython",
    "version": 3
   },
   "file_extension": ".py",
   "mimetype": "text/x-python",
   "name": "python",
   "nbconvert_exporter": "python",
   "pygments_lexer": "ipython3",
   "version": "3.11.10"
  }
 },
 "nbformat": 4,
 "nbformat_minor": 2
}
